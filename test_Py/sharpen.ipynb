{
 "cells": [
  {
   "cell_type": "code",
   "execution_count": 17,
   "metadata": {},
   "outputs": [
    {
     "ename": "ModuleNotFoundError",
     "evalue": "No module named 'filterizePy'",
     "output_type": "error",
     "traceback": [
      "\u001b[0;31m---------------------------------------------------------------------------\u001b[0m",
      "\u001b[0;31mModuleNotFoundError\u001b[0m                       Traceback (most recent call last)",
      "\u001b[0;32m<ipython-input-17-3c1f89377d5f>\u001b[0m in \u001b[0;36m<module>\u001b[0;34m()\u001b[0m\n\u001b[1;32m     18\u001b[0m \u001b[0;32mimport\u001b[0m \u001b[0mskimage\u001b[0m\u001b[0;34m.\u001b[0m\u001b[0mio\u001b[0m\u001b[0;34m\u001b[0m\u001b[0m\n\u001b[1;32m     19\u001b[0m \u001b[0;32mfrom\u001b[0m \u001b[0mPIL\u001b[0m \u001b[0;32mimport\u001b[0m \u001b[0mImage\u001b[0m\u001b[0;34m\u001b[0m\u001b[0m\n\u001b[0;32m---> 20\u001b[0;31m \u001b[0;32mfrom\u001b[0m \u001b[0mfilterizePy\u001b[0m \u001b[0;32mimport\u001b[0m \u001b[0msharpen\u001b[0m\u001b[0;34m\u001b[0m\u001b[0m\n\u001b[0m",
      "\u001b[0;31mModuleNotFoundError\u001b[0m: No module named 'filterizePy'"
     ]
    }
   ],
   "source": [
    "# Copyright 2019 Chao Wang\n",
    "# Licensed under the MIT License (the \"License\").\n",
    "# you may not use this file except in compliance with the License.\n",
    "# You may obtain a copy of the License at https://mit-license.org\n",
    "\n",
    "# Feburary 2019\n",
    "# This script tests the function from sharpen.py.\n",
    "\n",
    "# This script tests sharpen function of filterizePy package.\n",
    "# This function sharpens an image.\n",
    "# Input  : An image in .png, .jpeg,.gif,.bmp, .jpg format\n",
    "# Output : A sharpened image in the same format as the input image file type\n",
    "\n",
    "import numpy as np\n",
    "import pandas as pd\n",
    "import os\n",
    "import imghdr\n",
    "import skimage.io\n",
    "from PIL import Image\n",
    "from filterizePy import sharpen"
   ]
  },
  {
   "cell_type": "code",
   "execution_count": 19,
   "metadata": {},
   "outputs": [
    {
     "ename": "SyntaxError",
     "evalue": "invalid syntax (<ipython-input-19-535074a6253a>, line 1)",
     "output_type": "error",
     "traceback": [
      "\u001b[0;36m  File \u001b[0;32m\"<ipython-input-19-535074a6253a>\"\u001b[0;36m, line \u001b[0;32m1\u001b[0m\n\u001b[0;31m    def sharpen(input_img)\u001b[0m\n\u001b[0m                          ^\u001b[0m\n\u001b[0;31mSyntaxError\u001b[0m\u001b[0;31m:\u001b[0m invalid syntax\n"
     ]
    }
   ],
   "source": [
    "def sharpen(input_img)\n",
    "    \"\"\"This function sharpens an image.\n",
    "    \n",
    "    This function takes the input image of its size and ouput a sharpened image through the sharpen convolution filter.\n",
    "    read from the image path\n",
    "    apply filter\n",
    "    save the output image to the same folder, call the image transformed.\n",
    "    \n",
    "    Parameters\n",
    "    ----------\n",
    "    input_img: an image file from file path\n",
    "    \n",
    "    Returns\n",
    "    -------\n",
    "    output_img: an image file\n",
    "        This is the sharpened image, it has the same dimension and file type as the input_img\n",
    "    Example\n",
    "    -------\n",
    "    \"\"\"\n",
    "    \n",
    "    img = preprocess_image(input_img)\n",
    "    ft = np.zeros((3,3))\n",
    "    ft[1,1] = 5\n",
    "    ft[0,1]=ft[1,0]=ft[1,2]=ft[2,1]=-2\n",
    "    print(ft)\n",
    "    res = show_conv(img, ft)\n",
    "    return output_img"
   ]
  },
  {
   "cell_type": "code",
   "execution_count": 18,
   "metadata": {},
   "outputs": [
    {
     "ename": "SyntaxError",
     "evalue": "invalid syntax (<ipython-input-18-70409854680c>, line 1)",
     "output_type": "error",
     "traceback": [
      "\u001b[0;36m  File \u001b[0;32m\"<ipython-input-18-70409854680c>\"\u001b[0;36m, line \u001b[0;32m1\u001b[0m\n\u001b[0;31m    def sharpen()\u001b[0m\n\u001b[0m                 ^\u001b[0m\n\u001b[0;31mSyntaxError\u001b[0m\u001b[0;31m:\u001b[0m invalid syntax\n"
     ]
    }
   ],
   "source": [
    "def check_input_type():\n",
    "    \"\"\" This function checks the input image\n",
    "    \"\"\"\n",
    "    assert imghdr.what(input_img) in ['png','jpeg','gif','bmp','jpg'] \n",
    "    \n",
    "def check_output_type():\n",
    "    assert imghdr.what(output_img) in ['png','jpeg','gif','bmp','jpg'] and \n",
    "    imghdr.what(output_img)==imghdr.what(input_img)\n",
    "    \n",
    "\n",
    "def check_output_dimension(input_img, output_img):\n",
    "    in_width, in_height = input_img.size\n",
    "    out_width, out_height = output_img.size\n",
    "    assert in_with == out_width and in_height==out_height\n",
    "    \n",
    "def check_input_path():\n",
    "    \n",
    "def check_output_path():\n",
    "\n",
    "def"
   ]
  },
  {
   "cell_type": "markdown",
   "metadata": {},
   "source": [
    "reference: https://docs.python.org/2/library/imghdr.html"
   ]
  },
  {
   "cell_type": "code",
   "execution_count": 21,
   "metadata": {},
   "outputs": [
    {
     "name": "stdout",
     "output_type": "stream",
     "text": [
      "[[ 0. -2.  0.]\n",
      " [-2.  5. -2.]\n",
      " [ 0. -2.  0.]]\n"
     ]
    }
   ],
   "source": [
    "ft = np.zeros((3,3))\n",
    "ft[1,1] = 5\n",
    "ft[0,1]=ft[1,0]=ft[1,2]=ft[2,1]=-2\n",
    "print(ft)"
   ]
  },
  {
   "cell_type": "code",
   "execution_count": null,
   "metadata": {},
   "outputs": [],
   "source": []
  }
 ],
 "metadata": {
  "kernelspec": {
   "display_name": "Python 3",
   "language": "python",
   "name": "python3"
  },
  "language_info": {
   "codemirror_mode": {
    "name": "ipython",
    "version": 3
   },
   "file_extension": ".py",
   "mimetype": "text/x-python",
   "name": "python",
   "nbconvert_exporter": "python",
   "pygments_lexer": "ipython3",
   "version": "3.6.5"
  }
 },
 "nbformat": 4,
 "nbformat_minor": 2
}
